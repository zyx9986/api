{
 "cells": [
  {
   "cell_type": "code",
   "execution_count": 1,
   "metadata": {},
   "outputs": [
    {
     "name": "stdout",
     "output_type": "stream",
     "text": [
      "地点：大连\n",
      "日期：2019-05-06\n",
      "白天天气：晴\n",
      "晚上天气：晴\n",
      "最高气温：19\n",
      "最低气温：13\n",
      "风向：西南\n",
      "风级数：5\n",
      "日期：2019-05-07\n",
      "白天天气：晴\n",
      "晚上天气：晴\n",
      "最高气温：24\n",
      "最低气温：13\n",
      "风向：西南\n",
      "风级数：5\n",
      "日期：2019-05-08\n",
      "白天天气：晴\n",
      "晚上天气：晴\n",
      "最高气温：23\n",
      "最低气温：15\n",
      "风向：西南\n",
      "风级数：5\n"
     ]
    }
   ],
   "source": [
    "import requests,json\n",
    "\n",
    "def check_weather(location,days):\n",
    "    if int(days) > 3 or int(days) < 0:\n",
    "        print('参数错误，只能传1，2，3')\n",
    "    api_url = 'https://api.seniverse.com/v3/weather/daily.json?key=ScUkjvtnlyUnfq5es&location='+location+'&language=zh-Hans&unit=c&start=0&days='+days\n",
    "    # 请求api\n",
    "    req = requests.get(api_url)\n",
    "\n",
    "    print('地点：'+json.loads(req.text)['results'][0]['location']['name'])\n",
    "    for day in list(json.loads(req.text)['results'][0]['daily']):\n",
    "        print('日期：'+day['date'])\n",
    "        print('白天天气：'+day['text_day'])\n",
    "        print('晚上天气：'+day['text_night'])\n",
    "        print('最高气温：'+day['high'])\n",
    "        print('最低气温：'+day['low'])\n",
    "        print('风向：'+day['wind_direction'])\n",
    "        print('风级数：'+day['wind_scale'])\n",
    "    \n",
    "#api 只支持查询今天以及未来两天的天气，所以days 只能传 1，2，3\n",
    "check_weather('dalian','3')"
   ]
  },
  {
   "cell_type": "code",
   "execution_count": null,
   "metadata": {},
   "outputs": [],
   "source": []
  }
 ],
 "metadata": {
  "kernelspec": {
   "display_name": "Python 3",
   "language": "python",
   "name": "python3"
  },
  "language_info": {
   "codemirror_mode": {
    "name": "ipython",
    "version": 3
   },
   "file_extension": ".py",
   "mimetype": "text/x-python",
   "name": "python",
   "nbconvert_exporter": "python",
   "pygments_lexer": "ipython3",
   "version": "3.7.0"
  }
 },
 "nbformat": 4,
 "nbformat_minor": 2
}
